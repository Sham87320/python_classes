{
 "cells": [
  {
   "cell_type": "markdown",
   "metadata": {
    "id": "qpIBAbJG5-AU"
   },
   "source": [
    "# Task 1\n",
    "# Create an empty list to store tasks."
   ]
  },
  {
   "cell_type": "code",
   "execution_count": 2,
   "metadata": {},
   "outputs": [],
   "source": [
    "Tasks= [ ]"
   ]
  },
  {
   "cell_type": "markdown",
   "metadata": {
    "id": "r6mARBbb5a8w"
   },
   "source": [
    "# Task 2\n",
    "# Create a function to add a new task to the list.\n"
   ]
  },
  {
   "cell_type": "code",
   "execution_count": 24,
   "metadata": {},
   "outputs": [
    {
     "name": "stdout",
     "output_type": "stream",
     "text": [
      "['hello', 'hello', 'hello', 'hello', 'hello', 'my_name']\n"
     ]
    }
   ],
   "source": [
    "\n",
    "Tasks.append('hello') #adding hello to the items in the task list \n",
    "Tasks.append('my_name')\n",
    "\n",
    "print(Tasks)\n"
   ]
  },
  {
   "cell_type": "markdown",
   "metadata": {
    "id": "Ts-gVroq5TrB"
   },
   "source": [
    "# Task 3\n",
    "# Create a function to list all the tasks."
   ]
  },
  {
   "cell_type": "code",
   "execution_count": 29,
   "metadata": {},
   "outputs": [
    {
     "name": "stdout",
     "output_type": "stream",
     "text": [
      "hello\n",
      "hello\n",
      "hello\n",
      "hello\n",
      "hello\n",
      "my_name\n"
     ]
    }
   ],
   "source": [
    "for items in Tasks:\n",
    "    print(items)\n",
    "\n"
   ]
  },
  {
   "cell_type": "markdown",
   "metadata": {
    "id": "A26nJkIE5Q8K"
   },
   "source": [
    "# Task 4\n",
    "# Create a function to mark a task as completed."
   ]
  },
  {
   "cell_type": "code",
   "execution_count": 32,
   "metadata": {},
   "outputs": [
    {
     "ename": "IndentationError",
     "evalue": "unindent does not match any outer indentation level (<string>, line 3)",
     "output_type": "error",
     "traceback": [
      "\u001b[1;36m  File \u001b[1;32m<string>:3\u001b[1;36m\u001b[0m\n\u001b[1;33m    else:\u001b[0m\n\u001b[1;37m         ^\u001b[0m\n\u001b[1;31mIndentationError\u001b[0m\u001b[1;31m:\u001b[0m unindent does not match any outer indentation level\n"
     ]
    }
   ],
   "source": [
    "if 0 <= task_index < len(Tasks):\n",
    "    tasks[task_index] = \"[x] \" + Tasks[task_index]\n",
    "  else:\n",
    "    print(\"Invalid task index.\")"
   ]
  },
  {
   "cell_type": "markdown",
   "metadata": {
    "id": "tKsXUNp-5OMU"
   },
   "source": [
    "# Task 5\n",
    "# Create a function to clear all tasks."
   ]
  },
  {
   "cell_type": "markdown",
   "metadata": {
    "id": "6NOABkTV5Kz8"
   },
   "source": [
    "# Task 6\n",
    "# Create a function to display a menu for the user.\n",
    "\n"
   ]
  },
  {
   "cell_type": "markdown",
   "metadata": {
    "id": "Vm6vxwzh5IHq"
   },
   "source": [
    "# Task 7\n",
    "# Create a loop for the menu."
   ]
  }
 ],
 "metadata": {
  "colab": {
   "provenance": []
  },
  "kernelspec": {
   "display_name": "Python 3 (ipykernel)",
   "language": "python",
   "name": "python3"
  },
  "language_info": {
   "codemirror_mode": {
    "name": "ipython",
    "version": 3
   },
   "file_extension": ".py",
   "mimetype": "text/x-python",
   "name": "python",
   "nbconvert_exporter": "python",
   "pygments_lexer": "ipython3",
   "version": "3.12.4"
  }
 },
 "nbformat": 4,
 "nbformat_minor": 4
}
