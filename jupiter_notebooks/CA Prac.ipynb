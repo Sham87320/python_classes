{
 "cells": [
  {
   "cell_type": "code",
   "execution_count": 60,
   "id": "3f66ed7b-3f3f-44b4-81ef-f124f84539da",
   "metadata": {},
   "outputs": [],
   "source": [
    "#TASK 1 A\n",
    "import xml.etree.ElementTree as ET\n",
    "\n",
    "def read_xml_file(xmlfile):\n",
    "  \n",
    "    #Trying to open and read the file, and return the contents of the file when successful\n",
    "    try :\n",
    "        xmldata = open(xmlfile,'r')\n",
    "        return ET.fromstring(xmldata.read())\n",
    "        \n",
    "    #will catch execptions/ errors incase the file is not found.\n",
    "    except FileNotFoundError:\n",
    "        print('Could not open the file:'.format(xmlfile))\n",
    "        \n",
    "    #will catch execptions/ errors incase we fail to read the file.\n",
    "    except IOError:\n",
    "        print('Could not read from the file:'.format(xmlfile)) \n",
    "    \n",
    "    #finally, we want to free the resources.\n",
    "    finally :\n",
    "        xmldata.close() "
   ]
  },
  {
   "cell_type": "code",
   "execution_count": 62,
   "id": "088f06fb-d920-448f-bc44-a62a3a11a773",
   "metadata": {},
   "outputs": [],
   "source": [
    "xml_data = read_xml_file('aer lingus.xml')"
   ]
  },
  {
   "cell_type": "code",
   "execution_count": 10,
   "id": "53ba0058-9de6-4e25-a1dd-11e12ba05739",
   "metadata": {},
   "outputs": [
    {
     "name": "stdout",
     "output_type": "stream",
     "text": [
      "JFK\n"
     ]
    }
   ],
   "source": [
    "print(xml_data[0].find('destination').text)"
   ]
  },
  {
   "cell_type": "code",
   "execution_count": 64,
   "id": "9d826306-6ad2-47af-91b0-93e51effaa99",
   "metadata": {},
   "outputs": [
    {
     "name": "stdout",
     "output_type": "stream",
     "text": [
      "destination: JFK, date: 2024-11-20T12:00:00Z\n",
      "destination: JFK, date: 2024-13-20T12:00:00Z\n",
      "destination: BOS, date: 2020-15-21T09:00:00Z\n",
      "destination: BOS, date: 2024-17-21T09:00:00Z\n",
      "destination: BOS, date: 2024-19-21T09:00:00Z\n"
     ]
    }
   ],
   "source": [
    "#B\n",
    "for index in range(1,10,2):\n",
    "    destination = xml_data[index].find('destination').text\n",
    "    date = xml_data[index].find('departureTime').text\n",
    "    print(f'destination: {destination}, date: {date}')"
   ]
  },
  {
   "cell_type": "code",
   "execution_count": 88,
   "id": "e749e68d-cfc3-426e-a76b-8f389fcf9e07",
   "metadata": {},
   "outputs": [],
   "source": [
    "#C\n",
    "import csv\n",
    "\n",
    "csv_file = \"./flights_aircraft_engine_type_FMI_CFM56_5B4.csv\"\n",
    "\n",
    "try:\n",
    "    flights_csv = open(csv_file, 'w')\n",
    "    csvwriter = csv.writer(flights_csv)\n",
    "    \n",
    "    is_header_written = False\n",
    "    for flight in xml_data.findall('flight'):\n",
    "        aircraft = flight.find('aircraft')\n",
    "        engine_type = aircraft.find('engineType').text\n",
    "\n",
    "        if is_header_written == False:\n",
    "            head = []\n",
    "            for col in range(0, 3):\n",
    "                head.append(flight[col].tag)\n",
    "            #print(list(flight))\n",
    "            for col in range(0, len(list(aircraft)) - 1):\n",
    "                head.append(aircraft[col].tag)\n",
    "            csvwriter.writerow(head)\n",
    "            is_header_written = True\n",
    "        \n",
    "        row = []\n",
    "        if engine_type == 'FMI CFM56-5B4/P':\n",
    "            for col in range(0, 3):\n",
    "                row.append(flight[col].text)\n",
    "                \n",
    "            for col in range(0, len(list(aircraft)) - 1):\n",
    "                row.append(aircraft[col].text)\n",
    "                \n",
    "            csvwriter.writerow(row)\n",
    "            #print(engine_type)\n",
    "    \n",
    "    \n",
    "        \n",
    "#will catch execptions/ errors incase the file is not found.\n",
    "except FileNotFoundError:\n",
    "    print('Could not open the file:'.format(xmlfile))\n",
    "        \n",
    "#will catch execptions/ errors incase we fail to read the file.\n",
    "except IOError:\n",
    "    print('Could not write from the file:'.format(xmlfile)) \n",
    "    \n",
    "#finally, we want to free the resources.\n",
    "finally:\n",
    "    flights_csv.close() "
   ]
  },
  {
   "cell_type": "code",
   "execution_count": null,
   "id": "928b6c1e-07dc-47f2-9281-9193adda8fb5",
   "metadata": {},
   "outputs": [],
   "source": []
  },
  {
   "cell_type": "code",
   "execution_count": 173,
   "id": "16cb9554-af3c-4cbe-b603-f55e2109f3d9",
   "metadata": {},
   "outputs": [
    {
     "name": "stdout",
     "output_type": "stream",
     "text": [
      "['3.2', '2.4']\n",
      " the number of times the decimal appears in the string : 2\n"
     ]
    }
   ],
   "source": [
    "#TASK 3\n",
    "import re\n",
    "\n",
    "def number_of_times_decimal_appears(str):\n",
    "    \"\"\"\n",
    " The function should use regular expressions to check if the string contains decimal numbers. \n",
    " The function should return the number of times decimal numbers appear in the string. Test your\n",
    "function with multiple sample strings. \n",
    "    \"\"\"\n",
    "#find all the times the decimal number appears in the string \n",
    "    m = re.findall(r\"([\\d+]*\\.[\\d+]*)\", str)\n",
    "    \n",
    "    print(m)\n",
    "\n",
    "    return len(m)\n",
    "\n",
    "decimal_count = number_of_times_decimal_appears('strong womanstrong 3.2 This sis a good day 2.4')\n",
    "\n",
    "print(f' the number of times the decimal appears in the string : {decimal_count}')\n",
    "    "
   ]
  },
  {
   "cell_type": "code",
   "execution_count": 171,
   "id": "4a4d3c2b-671d-4dec-9310-10c82f1c5e9e",
   "metadata": {},
   "outputs": [
    {
     "name": "stdout",
     "output_type": "stream",
     "text": [
      "['3', '2']\n",
      " the number of times the number appears in the string : 2\n"
     ]
    }
   ],
   "source": [
    "#number of times a number appears\n",
    "import re\n",
    "\n",
    "def number_of_times_number_appears(str):\n",
    "    \"\"\"\n",
    " The function should use regular expressions to check if the string contains decimal numbers. \n",
    " The function should return the number of times decimal numbers appear in the string. Test your\n",
    "function with multiple sample strings. \n",
    "    \"\"\"\n",
    "#find all the times the  number appears in the string \n",
    "    m = re.findall(r\"([\\d+])\", str)\n",
    "    \n",
    "    print(m)\n",
    "\n",
    "    return len(m)\n",
    "\n",
    "number_count = number_of_times_number_appears('strong womanstrong 3 This sis a good day 2')\n",
    "\n",
    "print(f' the number of times the number appears in the string : {number_count}')"
   ]
  },
  {
   "cell_type": "code",
   "execution_count": 219,
   "id": "26902f9c-00bb-4060-9cc2-aff1b8067254",
   "metadata": {},
   "outputs": [
    {
     "name": "stdout",
     "output_type": "stream",
     "text": [
      "This is a string        with a tab character.\n",
      "This    is    a    string    with    tabs\n"
     ]
    }
   ],
   "source": [
    "#Task 3 B\n",
    "\n",
    "import re\n",
    "\n",
    "def replace_tabs_with_spaces(_str):\n",
    "    \"\"\"\n",
    " The function should use regular expressions to replace every occurrence of a tab character in the\n",
    "string with four spaces. Test your function with multiple sample strings. \n",
    "    \"\"\"\n",
    "    replaced_string = re.sub(r'\\t', '    ', _str)\n",
    "    return replaced_string\n",
    "    \n",
    "\n",
    "print(replace_tabs_with_spaces('This is a string\\t\\twith a tab character.'))\n",
    "print(replace_tabs_with_spaces('This\\tis\\ta\\tstring\\twith\\ttabs'))\n"
   ]
  },
  {
   "cell_type": "code",
   "execution_count": null,
   "id": "24742716-bad2-4b3f-87e9-428b985198ab",
   "metadata": {},
   "outputs": [],
   "source": []
  },
  {
   "cell_type": "code",
   "execution_count": null,
   "id": "e2c504ed-dad0-4a45-8560-a97349d618cf",
   "metadata": {},
   "outputs": [],
   "source": []
  }
 ],
 "metadata": {
  "kernelspec": {
   "display_name": "Python 3 (ipykernel)",
   "language": "python",
   "name": "python3"
  },
  "language_info": {
   "codemirror_mode": {
    "name": "ipython",
    "version": 3
   },
   "file_extension": ".py",
   "mimetype": "text/x-python",
   "name": "python",
   "nbconvert_exporter": "python",
   "pygments_lexer": "ipython3",
   "version": "3.12.4"
  }
 },
 "nbformat": 4,
 "nbformat_minor": 5
}
