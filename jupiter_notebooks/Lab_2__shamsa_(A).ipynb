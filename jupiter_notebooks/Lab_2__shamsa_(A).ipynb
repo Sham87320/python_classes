{
 "cells": [
  {
   "cell_type": "markdown",
   "metadata": {
    "id": "Vp86YbPY3sKs"
   },
   "source": [
    "# Task 1\n",
    "# Create a Python dictionary that maps English words to their French translations."
   ]
  },
  {
   "cell_type": "code",
   "execution_count": 6,
   "metadata": {
    "id": "ib1pP2bc3Uke"
   },
   "outputs": [],
   "source": [
    "# Task 1\n",
    "# Create a Python dictionary that maps English words to their French translations.\n",
    "english_to_french = {\n",
    "    \"hello\": \"bonjour\",\n",
    "    \"cat\": \"chat\",\n",
    "    \"dog\": \"chien\",\n",
    "    \"yes\": \"oui\",\n",
    "    \"tomorrow\": \"demain\",\n",
    "    \"yesterday\": \"hier\",\n",
    "    \"fish\": \"poisson\",\n",
    "    \"difficult\": \"difficile\",\n",
    "    \"easy\": \"facile\",\n",
    "    \"bad\": \"mauvais\",\n",
    "    \"no\": \"non\",\n",
    "    \"tuesday\": \"mardi\",\n",
    "    \"january\": \"janvier\",\n",
    "    \"world\": \"monde\"\n",
    "}\n"
   ]
  },
  {
   "cell_type": "markdown",
   "metadata": {
    "id": "7HIZtwDZ30Bc"
   },
   "source": [
    "# Task 2\n",
    "# Create a passage of text in English."
   ]
  },
  {
   "cell_type": "code",
   "execution_count": null,
   "metadata": {
    "colab": {
     "base_uri": "https://localhost:8080/"
    },
    "id": "Odq5lRYhn8Jp",
    "outputId": "60d0c9d0-28fa-4da3-f551-f4f948922d3e"
   },
   "outputs": [
    {
     "name": "stdout",
     "output_type": "stream",
     "text": [
      "Hello world, no bad tuesday tomorrow.\n"
     ]
    }
   ],
   "source": [
    "Hello_world = ('Hello world, no bad tuesday tomorrow.')\n",
    "print(Hello_world)\n"
   ]
  },
  {
   "cell_type": "markdown",
   "metadata": {
    "id": "jMW-JQ3735NH"
   },
   "source": [
    "# Task 3\n",
    "# Create a function to translate the English text to French using the dictionary."
   ]
  },
  {
   "cell_type": "code",
   "execution_count": 12,
   "metadata": {
    "colab": {
     "base_uri": "https://localhost:8080/"
    },
    "id": "7LE1EGhdocjm",
    "outputId": "9457d54b-d92c-4037-a98f-c61a38d63fd6"
   },
   "outputs": [
    {
     "name": "stdout",
     "output_type": "stream",
     "text": [
      "bonjour monde, non mauvais mardi demain.\n"
     ]
    }
   ],
   "source": [
    "def translate(Hello_world, transdict):\n",
    "    words = Hello_world.split()\n",
    "    trans = [transdict.get(w.lower(),w) for w in words]\n",
    "    print(' '.join(trans))\n",
    "\n",
    "import re\n",
    "\n",
    "def maketrans(somedict):\n",
    "    def trans(mo):\n",
    "        word = mo.group()\n",
    "        return somedict.get(word.lower(), word)\n",
    "    return trans\n",
    "\n",
    "\n"
   ]
  },
  {
   "cell_type": "markdown",
   "metadata": {
    "id": "UrcKJRBP4BUA"
   },
   "source": [
    "# Task 4\n",
    "# Translate the English text to French."
   ]
  },
  {
   "cell_type": "code",
   "execution_count": 13,
   "metadata": {
    "colab": {
     "base_uri": "https://localhost:8080/"
    },
    "id": "X7JwjkAaxuTI",
    "outputId": "a2259d0c-eb46-46c7-e924-ee6d2401f38f"
   },
   "outputs": [
    {
     "name": "stdout",
     "output_type": "stream",
     "text": [
      "bonjour monde, non mauvais mardi demain.\n"
     ]
    }
   ],
   "source": [
    "translated = re.sub(r'\\w+', maketrans(english_to_french), Hello_world)\n",
    "print(translated)"
   ]
  },
  {
   "cell_type": "markdown",
   "metadata": {
    "id": "Ta-2AK674DrH"
   },
   "source": [
    "# Task 5\n",
    "# Print the original and translated texts."
   ]
  },
  {
   "cell_type": "code",
   "execution_count": 15,
   "metadata": {
    "colab": {
     "base_uri": "https://localhost:8080/"
    },
    "id": "KPBYxmt03f1r",
    "outputId": "569e6e34-e8d8-4aed-aecd-36dd06cefecb"
   },
   "outputs": [
    {
     "name": "stdout",
     "output_type": "stream",
     "text": [
      "Hello world, no bad tuesday tomorrow.\n",
      "bonjour monde, non mauvais mardi demain.\n"
     ]
    }
   ],
   "source": [
    "print(Hello_world)\n",
    "print(translated)\n"
   ]
  }
 ],
 "metadata": {
  "colab": {
   "provenance": []
  },
  "kernelspec": {
   "display_name": "Python 3 (ipykernel)",
   "language": "python",
   "name": "python3"
  },
  "language_info": {
   "codemirror_mode": {
    "name": "ipython",
    "version": 3
   },
   "file_extension": ".py",
   "mimetype": "text/x-python",
   "name": "python",
   "nbconvert_exporter": "python",
   "pygments_lexer": "ipython3",
   "version": "3.12.4"
  }
 },
 "nbformat": 4,
 "nbformat_minor": 4
}
