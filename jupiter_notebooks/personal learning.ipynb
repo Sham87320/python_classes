{
 "cells": [
  {
   "cell_type": "code",
   "execution_count": 11,
   "id": "63aca1dd-7a7c-48ef-beee-df26726d86c9",
   "metadata": {},
   "outputs": [
    {
     "name": "stdout",
     "output_type": "stream",
     "text": [
      "[1, 2, 3, 4]\n",
      "[1, 2, 3, 4]\n",
      "[1, 2, 3, 4]\n",
      "[1, 2, 3, 4]\n"
     ]
    }
   ],
   "source": [
    "my_list = [1,2,3,4]\n",
    "for item in my_list:\n",
    "    print(my_list) "
   ]
  },
  {
   "cell_type": "code",
   "execution_count": 13,
   "id": "df4c8c21-7600-47a6-9723-441af2e2d1e4",
   "metadata": {},
   "outputs": [
    {
     "name": "stdout",
     "output_type": "stream",
     "text": [
      "0\n",
      "1\n",
      "2\n",
      "3\n",
      "4\n",
      "5\n",
      "6\n",
      "7\n",
      "8\n",
      "9\n",
      "10\n",
      "11\n",
      "12\n",
      "13\n",
      "14\n",
      "15\n",
      "16\n",
      "17\n",
      "18\n",
      "19\n",
      "20\n",
      "21\n",
      "22\n",
      "23\n",
      "24\n",
      "25\n",
      "26\n",
      "27\n",
      "28\n",
      "29\n",
      "30\n",
      "31\n",
      "32\n",
      "33\n",
      "34\n",
      "35\n",
      "36\n",
      "37\n",
      "38\n",
      "39\n",
      "40\n",
      "41\n",
      "42\n",
      "43\n",
      "44\n",
      "45\n",
      "46\n",
      "47\n",
      "48\n",
      "49\n",
      "done with all the work\n"
     ]
    }
   ],
   "source": [
    "i = 0\n",
    "while i < 50:\n",
    "    print(i)\n",
    "    i += 1 \n",
    "else:\n",
    "    print('done with all the work')"
   ]
  },
  {
   "cell_type": "code",
   "execution_count": 23,
   "id": "98147509-92f2-4869-9092-26f0995dcbdb",
   "metadata": {},
   "outputs": [
    {
     "name": "stderr",
     "output_type": "stream",
     "text": [
      "<>:2: SyntaxWarning: list indices must be integers or slices, not tuple; perhaps you missed a comma?\n",
      "<>:2: SyntaxWarning: list indices must be integers or slices, not tuple; perhaps you missed a comma?\n",
      "C:\\Users\\shams\\AppData\\Local\\Temp\\ipykernel_46884\\4254649328.py:2: SyntaxWarning: list indices must be integers or slices, not tuple; perhaps you missed a comma?\n",
      "  [0,1,0,1,0,0]\n",
      "C:\\Users\\shams\\AppData\\Local\\Temp\\ipykernel_46884\\4254649328.py:2: SyntaxWarning: list indices must be integers or slices, not tuple; perhaps you missed a comma?\n",
      "  [0,1,0,1,0,0]\n",
      "C:\\Users\\shams\\AppData\\Local\\Temp\\ipykernel_46884\\4254649328.py:2: SyntaxWarning: list indices must be integers or slices, not tuple; perhaps you missed a comma?\n",
      "  [0,1,0,1,0,0]\n",
      "C:\\Users\\shams\\AppData\\Local\\Temp\\ipykernel_46884\\4254649328.py:2: SyntaxWarning: list indices must be integers or slices, not tuple; perhaps you missed a comma?\n",
      "  [0,1,0,1,0,0]\n",
      "C:\\Users\\shams\\AppData\\Local\\Temp\\ipykernel_46884\\4254649328.py:2: SyntaxWarning: list indices must be integers or slices, not tuple; perhaps you missed a comma?\n",
      "  [0,1,0,1,0,0]\n",
      "C:\\Users\\shams\\AppData\\Local\\Temp\\ipykernel_46884\\4254649328.py:2: SyntaxWarning: list indices must be integers or slices, not tuple; perhaps you missed a comma?\n",
      "  [0,1,0,1,0,0]\n",
      "C:\\Users\\shams\\AppData\\Local\\Temp\\ipykernel_46884\\4254649328.py:2: SyntaxWarning: list indices must be integers or slices, not tuple; perhaps you missed a comma?\n",
      "  [0,1,0,1,0,0]\n",
      "C:\\Users\\shams\\AppData\\Local\\Temp\\ipykernel_46884\\4254649328.py:2: SyntaxWarning: list indices must be integers or slices, not tuple; perhaps you missed a comma?\n",
      "  [0,1,0,1,0,0]\n",
      "C:\\Users\\shams\\AppData\\Local\\Temp\\ipykernel_46884\\4254649328.py:2: SyntaxWarning: list indices must be integers or slices, not tuple; perhaps you missed a comma?\n",
      "  [0,1,0,1,0,0]\n"
     ]
    },
    {
     "ename": "TypeError",
     "evalue": "list indices must be integers or slices, not tuple",
     "output_type": "error",
     "traceback": [
      "\u001b[1;31m---------------------------------------------------------------------------\u001b[0m",
      "\u001b[1;31mTypeError\u001b[0m                                 Traceback (most recent call last)",
      "Cell \u001b[1;32mIn[23], line 2\u001b[0m\n\u001b[0;32m      1\u001b[0m picture \u001b[38;5;241m=\u001b[39m [\n\u001b[1;32m----> 2\u001b[0m     [\u001b[38;5;241m0\u001b[39m,\u001b[38;5;241m1\u001b[39m,\u001b[38;5;241m0\u001b[39m,\u001b[38;5;241m1\u001b[39m,\u001b[38;5;241m0\u001b[39m,\u001b[38;5;241m0\u001b[39m]\n\u001b[0;32m      3\u001b[0m     [\u001b[38;5;241m1\u001b[39m,\u001b[38;5;241m0\u001b[39m,\u001b[38;5;241m1\u001b[39m,\u001b[38;5;241m0\u001b[39m,\u001b[38;5;241m1\u001b[39m,\u001b[38;5;241m0\u001b[39m]\n\u001b[0;32m      4\u001b[0m     [\u001b[38;5;241m0\u001b[39m,\u001b[38;5;241m0\u001b[39m,\u001b[38;5;241m1\u001b[39m,\u001b[38;5;241m0\u001b[39m,\u001b[38;5;241m0\u001b[39m,\u001b[38;5;241m1\u001b[39m]\n\u001b[0;32m      5\u001b[0m     [\u001b[38;5;241m1\u001b[39m,\u001b[38;5;241m0\u001b[39m,\u001b[38;5;241m0\u001b[39m,\u001b[38;5;241m1\u001b[39m,\u001b[38;5;241m0\u001b[39m,\u001b[38;5;241m1\u001b[39m]\n\u001b[0;32m      6\u001b[0m ]\n\u001b[0;32m      7\u001b[0m i\u001b[38;5;241m=\u001b[39m\u001b[38;5;241m0\u001b[39m\n\u001b[0;32m      8\u001b[0m \u001b[38;5;28;01mwhile\u001b[39;00m i\u001b[38;5;241m==\u001b[39m\u001b[38;5;241m0\u001b[39m:\n",
      "\u001b[1;31mTypeError\u001b[0m: list indices must be integers or slices, not tuple"
     ]
    }
   ],
   "source": [
    "picture = [\n",
    "    [0,1,0,1,0,0]\n",
    "    [1,0,1,0,1,0]\n",
    "    [0,0,1,0,0,1]\n",
    "    [1,0,0,1,0,1]\n",
    "]\n",
    "i=0\n",
    "while i==0:\n",
    "    print(' ')\n",
    "else:\n",
    "    print('*')"
   ]
  },
  {
   "cell_type": "code",
   "execution_count": null,
   "id": "298b4ea6-808a-4022-b9cb-326a5176e510",
   "metadata": {},
   "outputs": [],
   "source": []
  }
 ],
 "metadata": {
  "kernelspec": {
   "display_name": "Python 3 (ipykernel)",
   "language": "python",
   "name": "python3"
  },
  "language_info": {
   "codemirror_mode": {
    "name": "ipython",
    "version": 3
   },
   "file_extension": ".py",
   "mimetype": "text/x-python",
   "name": "python",
   "nbconvert_exporter": "python",
   "pygments_lexer": "ipython3",
   "version": "3.12.4"
  }
 },
 "nbformat": 4,
 "nbformat_minor": 5
}
