{
 "cells": [
  {
   "cell_type": "code",
   "execution_count": 2,
   "metadata": {
    "id": "C0PBbgeR40er"
   },
   "outputs": [],
   "source": [
    "# Task 1\n",
    "# Create an empty list to store tasks.\n",
    "tasks = []\n",
    "\n",
    "\n",
    "\n",
    "\n",
    "\n",
    "\n",
    "\n",
    "\n"
   ]
  },
  {
   "cell_type": "markdown",
   "metadata": {
    "id": "r6mARBbb5a8w"
   },
   "source": [
    "# Task 2\n",
    "# Create a function to add a new task to the list.\n"
   ]
  },
  {
   "cell_type": "code",
   "execution_count": 3,
   "metadata": {
    "id": "ir71pc0U5Y0Z"
   },
   "outputs": [],
   "source": [
    "def add_task(task):\n",
    "    tasks.append(task)"
   ]
  },
  {
   "cell_type": "markdown",
   "metadata": {
    "id": "Ts-gVroq5TrB"
   },
   "source": [
    "# Task 3\n",
    "# Create a function to list all the tasks."
   ]
  },
  {
   "cell_type": "code",
   "execution_count": 4,
   "metadata": {
    "id": "SZIVVJ0B5T2W"
   },
   "outputs": [],
   "source": [
    "\n",
    "def list_tasks():\n",
    "    if not tasks:\n",
    "        print(\"No tasks in the list.\")\n",
    "    else:\n",
    "        print(\"Tasks:\")\n",
    "        for index, task in enumerate(tasks, start=1):\n",
    "            print(f\"{index}. {task}\")\n"
   ]
  },
  {
   "cell_type": "markdown",
   "metadata": {
    "id": "A26nJkIE5Q8K"
   },
   "source": [
    "# Task 4\n",
    "# Create a function to mark a task as completed."
   ]
  },
  {
   "cell_type": "code",
   "execution_count": 5,
   "metadata": {
    "id": "AJc8zYhz5RE0"
   },
   "outputs": [],
   "source": [
    "\n",
    "def complete_task(task_index):\n",
    "    if task_index >= 1 and task_index <= len(tasks):\n",
    "        print(f\"Task '{tasks[task_index - 1]}' marked as completed.\")\n",
    "        tasks.pop(task_index - 1)\n",
    "    else:\n",
    "        print(\"Invalid task index.\")\n"
   ]
  },
  {
   "cell_type": "markdown",
   "metadata": {
    "id": "tKsXUNp-5OMU"
   },
   "source": [
    "# Task 5\n",
    "# Create a function to clear all tasks."
   ]
  },
  {
   "cell_type": "code",
   "execution_count": 6,
   "metadata": {
    "id": "SlYWPhXL5OhA"
   },
   "outputs": [],
   "source": [
    "\n",
    "def clear_tasks():\n",
    "    tasks.clear()\n",
    "    print(\"All tasks cleared.\")"
   ]
  },
  {
   "cell_type": "markdown",
   "metadata": {
    "id": "6NOABkTV5Kz8"
   },
   "source": [
    "# Task 6\n",
    "# Create a function to display a menu for the user.\n",
    "\n"
   ]
  },
  {
   "cell_type": "code",
   "execution_count": 7,
   "metadata": {
    "id": "D9HOaO1C5MU9"
   },
   "outputs": [],
   "source": [
    "def display_menu():\n",
    "    print(\"\\nTask Management System Menu:\")\n",
    "    print(\"1. Add a Task\")\n",
    "    print(\"2. List Tasks\")\n",
    "    print(\"3. Mark Task as Completed\")\n",
    "    print(\"4. Clear All Tasks\")\n",
    "    print(\"5. Exit\")"
   ]
  },
  {
   "cell_type": "markdown",
   "metadata": {
    "id": "Vm6vxwzh5IHq"
   },
   "source": [
    "# Task 7\n",
    "# Create a loop for the menu."
   ]
  },
  {
   "cell_type": "code",
   "execution_count": 9,
   "metadata": {
    "colab": {
     "base_uri": "https://localhost:8080/",
     "height": 1000
    },
    "id": "0lQipIXk5Fbj",
    "outputId": "d36cd60e-5b23-4505-c247-0b2debacff6c"
   },
   "outputs": [
    {
     "name": "stdout",
     "output_type": "stream",
     "text": [
      "\n",
      "Task Management System Menu:\n",
      "1. Add a Task\n",
      "2. List Tasks\n",
      "3. Mark Task as Completed\n",
      "4. Clear All Tasks\n",
      "5. Exit\n",
      "Enter your choice (1/2/3/4/5): 1\n",
      "Enter the task: DAP\n",
      "\n",
      "Task Management System Menu:\n",
      "1. Add a Task\n",
      "2. List Tasks\n",
      "3. Mark Task as Completed\n",
      "4. Clear All Tasks\n",
      "5. Exit\n",
      "Enter your choice (1/2/3/4/5): 3\n",
      "Tasks:\n",
      "1. DAP\n",
      "Enter the task index to mark as completed: 1\n",
      "Task 'DAP' marked as completed.\n",
      "\n",
      "Task Management System Menu:\n",
      "1. Add a Task\n",
      "2. List Tasks\n",
      "3. Mark Task as Completed\n",
      "4. Clear All Tasks\n",
      "5. Exit\n",
      "Enter your choice (1/2/3/4/5): 2\n",
      "No tasks in the list.\n",
      "\n",
      "Task Management System Menu:\n",
      "1. Add a Task\n",
      "2. List Tasks\n",
      "3. Mark Task as Completed\n",
      "4. Clear All Tasks\n",
      "5. Exit\n",
      "Enter your choice (1/2/3/4/5): 4\n",
      "All tasks cleared.\n",
      "\n",
      "Task Management System Menu:\n",
      "1. Add a Task\n",
      "2. List Tasks\n",
      "3. Mark Task as Completed\n",
      "4. Clear All Tasks\n",
      "5. Exit\n"
     ]
    },
    {
     "ename": "KeyboardInterrupt",
     "evalue": "ignored",
     "output_type": "error",
     "traceback": [
      "\u001b[0;31m---------------------------------------------------------------------------\u001b[0m",
      "\u001b[0;31mKeyboardInterrupt\u001b[0m                         Traceback (most recent call last)",
      "\u001b[0;32m<ipython-input-9-1022473e0f9a>\u001b[0m in \u001b[0;36m<cell line: 1>\u001b[0;34m()\u001b[0m\n\u001b[1;32m      1\u001b[0m \u001b[0;32mwhile\u001b[0m \u001b[0;32mTrue\u001b[0m\u001b[0;34m:\u001b[0m\u001b[0;34m\u001b[0m\u001b[0;34m\u001b[0m\u001b[0m\n\u001b[1;32m      2\u001b[0m     \u001b[0mdisplay_menu\u001b[0m\u001b[0;34m(\u001b[0m\u001b[0;34m)\u001b[0m\u001b[0;34m\u001b[0m\u001b[0;34m\u001b[0m\u001b[0m\n\u001b[0;32m----> 3\u001b[0;31m     \u001b[0mchoice\u001b[0m \u001b[0;34m=\u001b[0m \u001b[0minput\u001b[0m\u001b[0;34m(\u001b[0m\u001b[0;34m\"Enter your choice (1/2/3/4/5): \"\u001b[0m\u001b[0;34m)\u001b[0m\u001b[0;34m\u001b[0m\u001b[0;34m\u001b[0m\u001b[0m\n\u001b[0m\u001b[1;32m      4\u001b[0m \u001b[0;34m\u001b[0m\u001b[0m\n\u001b[1;32m      5\u001b[0m     \u001b[0;32mif\u001b[0m \u001b[0mchoice\u001b[0m \u001b[0;34m==\u001b[0m \u001b[0;34m\"1\"\u001b[0m\u001b[0;34m:\u001b[0m\u001b[0;34m\u001b[0m\u001b[0;34m\u001b[0m\u001b[0m\n",
      "\u001b[0;32m/usr/local/lib/python3.10/dist-packages/ipykernel/kernelbase.py\u001b[0m in \u001b[0;36mraw_input\u001b[0;34m(self, prompt)\u001b[0m\n\u001b[1;32m    849\u001b[0m                 \u001b[0;34m\"raw_input was called, but this frontend does not support input requests.\"\u001b[0m\u001b[0;34m\u001b[0m\u001b[0;34m\u001b[0m\u001b[0m\n\u001b[1;32m    850\u001b[0m             )\n\u001b[0;32m--> 851\u001b[0;31m         return self._input_request(str(prompt),\n\u001b[0m\u001b[1;32m    852\u001b[0m             \u001b[0mself\u001b[0m\u001b[0;34m.\u001b[0m\u001b[0m_parent_ident\u001b[0m\u001b[0;34m,\u001b[0m\u001b[0;34m\u001b[0m\u001b[0;34m\u001b[0m\u001b[0m\n\u001b[1;32m    853\u001b[0m             \u001b[0mself\u001b[0m\u001b[0;34m.\u001b[0m\u001b[0m_parent_header\u001b[0m\u001b[0;34m,\u001b[0m\u001b[0;34m\u001b[0m\u001b[0;34m\u001b[0m\u001b[0m\n",
      "\u001b[0;32m/usr/local/lib/python3.10/dist-packages/ipykernel/kernelbase.py\u001b[0m in \u001b[0;36m_input_request\u001b[0;34m(self, prompt, ident, parent, password)\u001b[0m\n\u001b[1;32m    893\u001b[0m             \u001b[0;32mexcept\u001b[0m \u001b[0mKeyboardInterrupt\u001b[0m\u001b[0;34m:\u001b[0m\u001b[0;34m\u001b[0m\u001b[0;34m\u001b[0m\u001b[0m\n\u001b[1;32m    894\u001b[0m                 \u001b[0;31m# re-raise KeyboardInterrupt, to truncate traceback\u001b[0m\u001b[0;34m\u001b[0m\u001b[0;34m\u001b[0m\u001b[0m\n\u001b[0;32m--> 895\u001b[0;31m                 \u001b[0;32mraise\u001b[0m \u001b[0mKeyboardInterrupt\u001b[0m\u001b[0;34m(\u001b[0m\u001b[0;34m\"Interrupted by user\"\u001b[0m\u001b[0;34m)\u001b[0m \u001b[0;32mfrom\u001b[0m \u001b[0;32mNone\u001b[0m\u001b[0;34m\u001b[0m\u001b[0;34m\u001b[0m\u001b[0m\n\u001b[0m\u001b[1;32m    896\u001b[0m             \u001b[0;32mexcept\u001b[0m \u001b[0mException\u001b[0m \u001b[0;32mas\u001b[0m \u001b[0me\u001b[0m\u001b[0;34m:\u001b[0m\u001b[0;34m\u001b[0m\u001b[0;34m\u001b[0m\u001b[0m\n\u001b[1;32m    897\u001b[0m                 \u001b[0mself\u001b[0m\u001b[0;34m.\u001b[0m\u001b[0mlog\u001b[0m\u001b[0;34m.\u001b[0m\u001b[0mwarning\u001b[0m\u001b[0;34m(\u001b[0m\u001b[0;34m\"Invalid Message:\"\u001b[0m\u001b[0;34m,\u001b[0m \u001b[0mexc_info\u001b[0m\u001b[0;34m=\u001b[0m\u001b[0;32mTrue\u001b[0m\u001b[0;34m)\u001b[0m\u001b[0;34m\u001b[0m\u001b[0;34m\u001b[0m\u001b[0m\n",
      "\u001b[0;31mKeyboardInterrupt\u001b[0m: Interrupted by user"
     ]
    }
   ],
   "source": [
    "\n",
    "while True:\n",
    "    display_menu()\n",
    "    choice = input(\"Enter your choice (1/2/3/4/5): \")\n",
    "\n",
    "    if choice == \"1\":\n",
    "        new_task = input(\"Enter the task: \")\n",
    "        add_task(new_task)\n",
    "    elif choice == \"2\":\n",
    "        list_tasks()\n",
    "    elif choice == \"3\":\n",
    "        list_tasks()\n",
    "        task_index = int(input(\"Enter the task index to mark as completed: \"))\n",
    "        complete_task(task_index)\n",
    "    elif choice == \"4\":\n",
    "        clear_tasks()\n",
    "    elif choice == \"5\":\n",
    "        print(\"Goodbye!\")\n",
    "        break\n",
    "    else:\n",
    "        print(\"Invalid choice. Please choose 1, 2, 3, 4, or 5.\")"
   ]
  }
 ],
 "metadata": {
  "colab": {
   "provenance": []
  },
  "kernelspec": {
   "display_name": "Python 3 (ipykernel)",
   "language": "python",
   "name": "python3"
  },
  "language_info": {
   "codemirror_mode": {
    "name": "ipython",
    "version": 3
   },
   "file_extension": ".py",
   "mimetype": "text/x-python",
   "name": "python",
   "nbconvert_exporter": "python",
   "pygments_lexer": "ipython3",
   "version": "3.12.4"
  }
 },
 "nbformat": 4,
 "nbformat_minor": 4
}
