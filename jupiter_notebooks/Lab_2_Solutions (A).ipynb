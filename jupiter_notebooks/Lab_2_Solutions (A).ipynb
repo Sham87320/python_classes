{
 "cells": [
  {
   "cell_type": "markdown",
   "metadata": {
    "id": "Vp86YbPY3sKs"
   },
   "source": [
    "# Task 1\n",
    "# Create a Python dictionary that maps English words to their French translations."
   ]
  },
  {
   "cell_type": "code",
   "execution_count": 1,
   "metadata": {
    "id": "ib1pP2bc3Uke"
   },
   "outputs": [],
   "source": [
    "# Task 1\n",
    "# Create a Python dictionary that maps English words to their French translations.\n",
    "english_to_french = {\n",
    "    \"hello\": \"bonjour\",\n",
    "    \"cat\": \"chat\",\n",
    "    \"dog\": \"chien\",\n",
    "    \"yes\": \"oui\",\n",
    "    \"tomorrow\": \"demain\",\n",
    "    \"yesterday\": \"hier\",\n",
    "    \"fish\": \"poisson\",\n",
    "    \"difficult\": \"difficile\",\n",
    "    \"easy\": \"facile\",\n",
    "    \"bad\": \"mauvais\",\n",
    "    \"no\": \"non\",\n",
    "    \"tuesday\": \"mardi\",\n",
    "    \"january\": \"janvier\",\n",
    "    \"world\": \"monde\"\n",
    "}\n"
   ]
  },
  {
   "cell_type": "markdown",
   "metadata": {
    "id": "7HIZtwDZ30Bc"
   },
   "source": [
    "# Task 2\n",
    "# Create a passage of text in English."
   ]
  },
  {
   "cell_type": "code",
   "execution_count": 2,
   "metadata": {
    "id": "kvTIumzt3X3g"
   },
   "outputs": [],
   "source": [
    "\n",
    "english_text = \"Hello, this is a simple passage about cats and dogs. Tomorrow will be a better day.\""
   ]
  },
  {
   "cell_type": "markdown",
   "metadata": {
    "id": "jMW-JQ3735NH"
   },
   "source": [
    "# Task 3\n",
    "# Create a function to translate the English text to French using the dictionary."
   ]
  },
  {
   "cell_type": "code",
   "execution_count": 3,
   "metadata": {
    "id": "M3NFkZOr3b4P"
   },
   "outputs": [],
   "source": [
    "\n",
    "def translate_text(text, translation_dict):\n",
    "    words = text.split()\n",
    "    translated_text = []\n",
    "    for word in words:\n",
    "        translation = translation_dict.get(word, word)\n",
    "        translated_text.append(translation)\n",
    "    return \" \".join(translated_text)"
   ]
  },
  {
   "cell_type": "markdown",
   "metadata": {
    "id": "UrcKJRBP4BUA"
   },
   "source": [
    "# Task 4\n",
    "# Translate the English text to French."
   ]
  },
  {
   "cell_type": "code",
   "execution_count": 4,
   "metadata": {
    "id": "u6jnpAw53d7V"
   },
   "outputs": [],
   "source": [
    "french_text = translate_text(english_text, english_to_french)"
   ]
  },
  {
   "cell_type": "markdown",
   "metadata": {
    "id": "Ta-2AK674DrH"
   },
   "source": [
    "# Task 5\n",
    "# Print the original and translated texts."
   ]
  },
  {
   "cell_type": "code",
   "execution_count": 5,
   "metadata": {
    "colab": {
     "base_uri": "https://localhost:8080/"
    },
    "id": "k1dKJpqF3fuT",
    "outputId": "1b1bff97-85d0-417b-a299-b29fc26818ab"
   },
   "outputs": [
    {
     "name": "stdout",
     "output_type": "stream",
     "text": [
      "Original English Text:\n",
      "Hello, this is a simple passage about cats and dogs. Tomorrow will be a better day.\n",
      "\n",
      "Translated French Text:\n",
      "Hello, this is a simple passage about cats and dogs. Tomorrow will be a better day.\n"
     ]
    }
   ],
   "source": [
    "\n",
    "print(\"Original English Text:\")\n",
    "print(english_text)\n",
    "print(\"\\nTranslated French Text:\")\n",
    "print(french_text)\n"
   ]
  },
  {
   "cell_type": "code",
   "execution_count": 5,
   "metadata": {
    "id": "KPBYxmt03f1r"
   },
   "outputs": [],
   "source": []
  }
 ],
 "metadata": {
  "colab": {
   "provenance": []
  },
  "kernelspec": {
   "display_name": "Python 3 (ipykernel)",
   "language": "python",
   "name": "python3"
  },
  "language_info": {
   "codemirror_mode": {
    "name": "ipython",
    "version": 3
   },
   "file_extension": ".py",
   "mimetype": "text/x-python",
   "name": "python",
   "nbconvert_exporter": "python",
   "pygments_lexer": "ipython3",
   "version": "3.12.4"
  }
 },
 "nbformat": 4,
 "nbformat_minor": 4
}
