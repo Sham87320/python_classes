{
 "cells": [
  {
   "cell_type": "code",
   "execution_count": 87,
   "id": "908ab3ae-11bb-46ba-a793-cbef7ef7acf5",
   "metadata": {},
   "outputs": [
    {
     "name": "stdout",
     "output_type": "stream",
     "text": [
      "114\n"
     ]
    }
   ],
   "source": [
    "#  use the requests library to make HTTP requests by calling its functions and methods.\n",
    "import requests\n",
    "\n",
    "#use the BeautifulSoup class to create objects that represent the parsed HTML or XML document.\n",
    "from bs4 import BeautifulSoup\n",
    "\n",
    "#you are essentially telling Python to load the pandas library into your current working environment.\n",
    "import pandas as pd\n",
    "\n",
    "# Send a GET request to the IMDb top movies page\n",
    "url = \"https://www.rottentomatoes.com/\"\n",
    "response = requests.get(url)\n",
    "\n",
    "# Parse the HTML content using BeautifulSoup\n",
    "soup = BeautifulSoup(response.text, 'html.parser')\n",
    "\n",
    "# Extract movie data\n",
    "movies = []\n",
    "\n",
    "# Finding all movie elements / cards in the HTML \n",
    "for movie in soup.find_all('tile-dynamic'):\n",
    " \n",
    " # There should be a <span> HTML element with class name \"p--small\" \n",
    " title_element = movie.find('span', class_='p--small')\n",
    "\n",
    "# Only intrested in elements that have titles\n",
    " if title_element is not None:\n",
    "    title = title_element.text\n",
    "\n",
    "    # Rates have their own HTML element names <rt-text>\n",
    "    rating = movie.find('rt-text').text\n",
    "    \n",
    "    # This website does not have year of release\n",
    "    year = '0000' # movie.span.text.strip('()')\n",
    "\n",
    "    # Adding this movie info to the movies list\n",
    "    movies.append([title, year, rating])\n",
    "\n",
    "print(len(movies))"
   ]
  },
  {
   "cell_type": "code",
   "execution_count": null,
   "id": "f789a78f-c5cb-4688-b7b2-d79613b38246",
   "metadata": {},
   "outputs": [],
   "source": []
  }
 ],
 "metadata": {
  "kernelspec": {
   "display_name": "base",
   "language": "python",
   "name": "python3"
  },
  "language_info": {
   "codemirror_mode": {
    "name": "ipython",
    "version": 3
   },
   "file_extension": ".py",
   "mimetype": "text/x-python",
   "name": "python",
   "nbconvert_exporter": "python",
   "pygments_lexer": "ipython3",
   "version": "3.12.4"
  }
 },
 "nbformat": 4,
 "nbformat_minor": 5
}
