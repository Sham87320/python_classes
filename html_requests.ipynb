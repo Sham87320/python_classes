{
 "cells": [
  {
   "cell_type": "code",
   "execution_count": 3,
   "id": "908ab3ae-11bb-46ba-a793-cbef7ef7acf5",
   "metadata": {},
   "outputs": [
    {
     "name": "stdout",
     "output_type": "stream",
     "text": [
      "shamsa\n"
     ]
    }
   ],
   "source": [
    "#  use the requests library to make HTTP requests by calling its functions and methods.\n",
    "import requests\n",
    "\n",
    "#use the BeautifulSoup class to create objects that represent the parsed HTML or XML document.\n",
    "from bs4 import BeautifulSoup\n",
    "\n",
    "#you are essentially telling Python to load the pandas library into your current working environment.\n",
    "import pandas as pd\n",
    "\n",
    "# Send a GET request to the IMDb top movies page\n",
    "url = \"https://www.imdb.com/chart/top/\"\n",
    "response = requests.get(url)\n",
    "\n",
    "# Parse the HTML content using BeautifulSoup\n",
    "soup = BeautifulSoup(response.text, 'html.parser')\n",
    "\n",
    "#print(soup.get_text())\n",
    "print(\"shamsa\")\n"
   ]
  },
  {
   "cell_type": "code",
   "execution_count": null,
   "id": "f789a78f-c5cb-4688-b7b2-d79613b38246",
   "metadata": {},
   "outputs": [],
   "source": []
  }
 ],
 "metadata": {
  "kernelspec": {
   "display_name": "base",
   "language": "python",
   "name": "python3"
  },
  "language_info": {
   "codemirror_mode": {
    "name": "ipython",
    "version": 3
   },
   "file_extension": ".py",
   "mimetype": "text/x-python",
   "name": "python",
   "nbconvert_exporter": "python",
   "pygments_lexer": "ipython3",
   "version": "3.12.4"
  }
 },
 "nbformat": 4,
 "nbformat_minor": 5
}
